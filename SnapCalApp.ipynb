{
 "cells": [
  {
   "cell_type": "code",
   "execution_count": null,
   "metadata": {},
   "outputs": [],
   "source": [
    "from flask import Flask, render_template, request, session , redirect\n",
    "import pyrebase\n",
    "from tensorflow.keras.preprocessing import image\n",
    "import numpy as np\n",
    "import json\n",
    "from tensorflow.keras.models import load_model\n",
    "import base64\n",
    "import csv\n",
    "import requests\n",
    "\n",
    "app = Flask(__name__)\n",
    "app.secret_key = \"your_secret_key\"\n",
    "\n",
    "class uploadImage:\n",
    "    @app.route('/upload')\n",
    "    def uploadFile():\n",
    "        return render_template('upload.html')"
   ]
  }
 ],
 "metadata": {
  "language_info": {
   "name": "python"
  }
 },
 "nbformat": 4,
 "nbformat_minor": 2
}
