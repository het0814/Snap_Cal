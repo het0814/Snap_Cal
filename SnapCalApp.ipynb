{
 "cells": [
  {
   "cell_type": "code",
   "execution_count": null,
   "metadata": {},
   "outputs": [],
   "source": [
    "from flask import Flask, render_template, request, session , redirect\n",
    "import pyrebase\n",
    "from tensorflow.keras.preprocessing import image\n",
    "import numpy as np\n",
    "import json\n",
    "from tensorflow.keras.models import load_model\n",
    "import base64\n",
    "import csv\n",
    "import requests\n",
    "\n",
    "app = Flask(__name__)\n",
    "app.secret_key = \"your_secret_key\"\n",
    "\n",
    "# Define a function to read food names from a CSV file\n",
    "def load_food_names_from_csv(csv_file):\n",
    "    food_names = []\n",
    "    with open(csv_file, 'r') as file:\n",
    "        reader = csv.reader(file)\n",
    "        for row in reader:\n",
    "            food_names.extend(row)\n",
    "    return food_names\n",
    "\n",
    "class uploadImage:\n",
    "    @app.route('/upload')\n",
    "    def uploadFile():\n",
    "        return render_template('upload.html')\n"
   ]
  }
 ],
 "metadata": {
  "language_info": {
   "name": "python"
  }
 },
 "nbformat": 4,
 "nbformat_minor": 2
}
