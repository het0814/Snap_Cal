{
 "cells": [
  {
   "cell_type": "code",
   "execution_count": null,
   "metadata": {},
   "outputs": [],
   "source": [
    "from flask import Flask, render_template, request, session , redirect\n",
    "import pyrebase\n",
    "from tensorflow.keras.preprocessing import image\n",
    "import numpy as np\n",
    "import json\n",
    "from tensorflow.keras.models import load_model\n",
    "import base64\n",
    "import csv\n",
    "import requests\n",
    "\n",
    "app = Flask(__name__)\n",
    "app.secret_key = \"your_secret_key\"\n",
    "my_model = load_model('model_trained.h5', compile=False)\n",
    "\n",
    "class ImageRecognition:\n",
    "    def predict_top_classes(model, images, top=3):  #\n",
    "        predictions = []\n",
    "        for img_path in images:\n",
    "            img = image.load_img(img_path, target_size=(299, 299))\n",
    "            img = image.img_to_array(img)\n",
    "            img = np.expand_dims(img, axis=0)\n",
    "            img /= 255.\n",
    "\n",
    "            pred = model.predict(img)\n",
    "            top_indices = pred.argsort()[0][-top:][::-1]\n",
    "            top_predictions = [(food_list[i], pred[0][i]) for i in top_indices]\n",
    "            predictions.append(top_predictions)\n",
    "        return predictions\n",
    "        \n",
    "class uploadImage:\n",
    "    @app.route('/upload')\n",
    "    def uploadFile():\n",
    "        return render_template('upload.html')"
   ]
  }
 ],
 "metadata": {
  "language_info": {
   "name": "python"
  }
 },
 "nbformat": 4,
 "nbformat_minor": 2
}
