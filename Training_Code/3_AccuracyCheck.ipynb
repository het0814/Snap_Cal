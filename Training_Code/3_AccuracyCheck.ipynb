{
 "cells": [
  {
   "cell_type": "code",
   "execution_count": null,
   "metadata": {},
   "outputs": [],
   "source": [
    "from tensorflow.keras.preprocessing import image\n",
    "import matplotlib.pyplot as plt\n",
    "import numpy as np\n",
    "import os\n",
    "from tensorflow.keras.models import load_model\n",
    "\n",
    "def create_foodlist(path):\n",
    "    list_ = list()\n",
    "    for root, dirs, files in os.walk(path, topdown=False):\n",
    "      for name in dirs:\n",
    "        list_.append(name)\n",
    "    return list_    \n",
    "my_model = load_model('model_trained.h5', compile = False)\n",
    "food_list = create_foodlist(\"food-101/images\") \n",
    "def predict_class(model, images, show = True):\n",
    "  for img in images: \n",
    "    img = image.load_img(img, target_size=(299, 299))\n",
    "    img = image.img_to_array(img)                    \n",
    "    img = np.expand_dims(img, axis=0)         \n",
    "    img /= 255.                                      \n",
    "\n",
    "    pred = model.predict(img)\n",
    "    index = np.argmax(pred)    \n",
    "    food_list.sort()\n",
    "    pred_value = food_list[index]\n",
    "    if show:\n",
    "        plt.imshow(img[0])                           \n",
    "        plt.axis('off')\n",
    "        plt.title(pred_value)\n",
    "        plt.show()\n",
    "\n",
    "images = []\n",
    "images.append('caesar.jpg') \n",
    "images.append('beet2.jpg')\n",
    "images.append('pancake.jpg')\n",
    "\n",
    "\n",
    "print(\"PREDICTIONS BASED ON PICTURES UPLOADED\")\n",
    "predict_class(my_model, images, True)\n"
   ]
  }
 ],
 "metadata": {
  "language_info": {
   "name": "python"
  }
 },
 "nbformat": 4,
 "nbformat_minor": 2
}
